{
 "cells": [
  {
   "cell_type": "code",
   "execution_count": 1,
   "id": "emotional-scenario",
   "metadata": {},
   "outputs": [],
   "source": [
    "# !pip install datasets\n",
    "# !pip install matplotlib"
   ]
  },
  {
   "cell_type": "code",
   "execution_count": 2,
   "id": "great-municipality",
   "metadata": {},
   "outputs": [],
   "source": [
    "import utilities as utils\n",
    "import pandas as pd\n",
    "import numpy as np\n",
    "from collections import Counter\n",
    "from datasets import load_dataset"
   ]
  },
  {
   "cell_type": "markdown",
   "id": "numerical-correspondence",
   "metadata": {},
   "source": [
    "## Loading the data\n",
    "\n",
    "For the sake of the example, assume our entire corpus is just the training data from the NER Hin-Eng dataset in LinCE:"
   ]
  },
  {
   "cell_type": "code",
   "execution_count": 3,
   "id": "about-amino",
   "metadata": {},
   "outputs": [
    {
     "name": "stderr",
     "output_type": "stream",
     "text": [
      "Reusing dataset lince (/Users/gustalas/.cache/huggingface/datasets/lince/ner_hineng/1.0.0/e0897cf2baf87d06bc1279bd0498eb68535dd36726ba2d5333661cb476986036)\n"
     ]
    },
    {
     "name": "stdout",
     "output_type": "stream",
     "text": [
      "{'original': Dataset({\n",
      "    features: ['idx', 'words', 'lid', 'ner'],\n",
      "    num_rows: 1243\n",
      "})}\n"
     ]
    }
   ],
   "source": [
    "corpus = {\n",
    "    'original': load_dataset('lince', 'ner_hineng', split=\"train\")\n",
    "}\n",
    "\n",
    "print(corpus)"
   ]
  },
  {
   "cell_type": "markdown",
   "id": "utility-issue",
   "metadata": {},
   "source": [
    "This training data has a good CMI (it matches with Table 3 in the paper):"
   ]
  },
  {
   "cell_type": "code",
   "execution_count": 4,
   "id": "incoming-greenhouse",
   "metadata": {},
   "outputs": [
    {
     "data": {
      "text/plain": [
       "{'original': {'cmi_all': 20.117,\n",
       "  'cmi_cm': 25.412,\n",
       "  'all_sents': 1243.0,\n",
       "  'all_tokens': 21065,\n",
       "  'cm_sents': 984.0}}"
      ]
     },
     "execution_count": 4,
     "metadata": {},
     "output_type": "execute_result"
    }
   ],
   "source": [
    "# cmi_stats = utils.get_corpus_cmi(corpus, langs={'eng', 'eng&spa', 'spa'})\n",
    "# cmi_stats = utils.get_corpus_cmi(corpus, langs={'lang1', 'la ng2', 'mixed', 'fw'})\n",
    "cmi_stats = utils.get_corpus_cmi(corpus, langs={'en', 'hi'})\n",
    "cmi_stats"
   ]
  },
  {
   "cell_type": "markdown",
   "id": "balanced-split",
   "metadata": {},
   "source": [
    "## Inspecting the original corpus\n",
    "\n",
    "Recall that corpus is assumed to be our entire data (train + dev + test). We need to inspect the distribution of different aspects in the entire corpus to make sure they replicate in the stratified splits:"
   ]
  },
  {
   "cell_type": "code",
   "execution_count": 5,
   "id": "internal-postcard",
   "metadata": {},
   "outputs": [
    {
     "data": {
      "image/png": "[encoded data removed]",
      "text/plain": [
       "<Figure size 1008x360 with 1 Axes>"
      ]
     },
     "metadata": {
      "needs_background": "light"
     },
     "output_type": "display_data"
    }
   ],
   "source": [
    "def plot_sentence_lengths(corpus):\n",
    "    for split in corpus:\n",
    "        counts = Counter([len(sample) for sample in corpus[split]['words']])\n",
    "        counts_df = pd.DataFrame({'sentence_length': counts})\n",
    "        counts_df.plot.bar(title=split.title() + ' - Sentence Lengths', figsize=(14,5))\n",
    "        \n",
    "plot_sentence_lengths(corpus)"
   ]
  },
  {
   "cell_type": "code",
   "execution_count": 6,
   "id": "cooked-serbia",
   "metadata": {},
   "outputs": [],
   "source": [
    "def split_counters(datasplit, field):\n",
    "    return Counter(utils.flatten(datasplit[field]))\n",
    "    \n",
    "def corpus_counters(corpus, field):\n",
    "    counters = {}\n",
    "    for dataset in corpus:\n",
    "        counters[dataset] = split_counters(corpus[dataset], field)\n",
    "    return counters"
   ]
  },
  {
   "cell_type": "code",
   "execution_count": 7,
   "id": "sixth-jackson",
   "metadata": {},
   "outputs": [
    {
     "data": {
      "text/html": [
       "<div>\n",
       "<style scoped>\n",
       "    .dataframe tbody tr th:only-of-type {\n",
       "        vertical-align: middle;\n",
       "    }\n",
       "\n",
       "    .dataframe tbody tr th {\n",
       "        vertical-align: top;\n",
       "    }\n",
       "\n",
       "    .dataframe thead th {\n",
       "        text-align: right;\n",
       "    }\n",
       "</style>\n",
       "<table border=\"1\" class=\"dataframe\">\n",
       "  <thead>\n",
       "    <tr style=\"text-align: right;\">\n",
       "      <th></th>\n",
       "      <th>original</th>\n",
       "    </tr>\n",
       "  </thead>\n",
       "  <tbody>\n",
       "    <tr>\n",
       "      <th>en</th>\n",
       "      <td>8198</td>\n",
       "    </tr>\n",
       "    <tr>\n",
       "      <th>hi</th>\n",
       "      <td>6905</td>\n",
       "    </tr>\n",
       "    <tr>\n",
       "      <th>rest</th>\n",
       "      <td>5962</td>\n",
       "    </tr>\n",
       "  </tbody>\n",
       "</table>\n",
       "</div>"
      ],
      "text/plain": [
       "      original\n",
       "en        8198\n",
       "hi        6905\n",
       "rest      5962"
      ]
     },
     "execution_count": 7,
     "metadata": {},
     "output_type": "execute_result"
    }
   ],
   "source": [
    "pd.DataFrame(corpus_counters(corpus, field='lid'))"
   ]
  },
  {
   "cell_type": "code",
   "execution_count": 8,
   "id": "scheduled-ridge",
   "metadata": {},
   "outputs": [
    {
     "data": {
      "text/plain": [
       "<AxesSubplot:>"
      ]
     },
     "execution_count": 8,
     "metadata": {},
     "output_type": "execute_result"
    },
    {
     "data": {
      "image/png": "[encoded data removed]",
      "text/plain": [
       "<Figure size 432x288 with 1 Axes>"
      ]
     },
     "metadata": {
      "needs_background": "light"
     },
     "output_type": "display_data"
    }
   ],
   "source": [
    "pd.DataFrame(corpus_counters(corpus, field='lid')).plot.bar()"
   ]
  },
  {
   "cell_type": "code",
   "execution_count": 9,
   "id": "infinite-cutting",
   "metadata": {},
   "outputs": [
    {
     "data": {
      "text/plain": [
       "<AxesSubplot:>"
      ]
     },
     "execution_count": 9,
     "metadata": {},
     "output_type": "execute_result"
    },
    {
     "data": {
      "image/png": "[encoded data removed]",
      "text/plain": [
       "<Figure size 432x288 with 1 Axes>"
      ]
     },
     "metadata": {
      "needs_background": "light"
     },
     "output_type": "display_data"
    }
   ],
   "source": [
    "pd.DataFrame(corpus_counters(corpus, field='ner'))[:-1].plot.bar() # [:-1] to ignore the O label for the plot"
   ]
  },
  {
   "cell_type": "code",
   "execution_count": 10,
   "id": "killing-inspiration",
   "metadata": {},
   "outputs": [
    {
     "name": "stdout",
     "output_type": "stream",
     "text": [
      "Sentences: 1,243\n",
      "   Tokens: 21,065\n"
     ]
    }
   ],
   "source": [
    "print('Sentences: {:,}'.format(len(corpus['original']['words'])))\n",
    "print('   Tokens: {:,}'.format(len(utils.flatten(corpus['original']['words']))))"
   ]
  },
  {
   "cell_type": "markdown",
   "id": "received-calculation",
   "metadata": {},
   "source": [
    "## Stratification\n",
    "\n",
    "The stratification needs to consider:\n",
    "\n",
    "* a similar distribution of entity labels\n",
    "* a similar distribution of langid labels\n",
    "* a similar distribution of sentence lengths\n",
    "* the least number of overlapping entity instances between train and dev/test\n",
    "* a ratio of 70:10:20 (47,056 : 6,722 : 13,445)"
   ]
  },
  {
   "cell_type": "code",
   "execution_count": 11,
   "id": "ideal-application",
   "metadata": {},
   "outputs": [],
   "source": [
    "def unify_labels_for_stratification(unified_corpus, extra_labels=[], snd_label_type='ner'):\n",
    "    unified_labels = Counter()\n",
    "    unified_labels.update(split_counters(unified_corpus, field='lid'))\n",
    "    unified_labels.update(split_counters(unified_corpus, field=snd_label_type))\n",
    "    unified_labels = {label: i for i, label in enumerate(sorted(unified_labels.keys()) + extra_labels)}\n",
    "    return unified_labels\n",
    "\n",
    "def length_to_category(length):\n",
    "    if length <= 5:\n",
    "        return 'small'\n",
    "    elif 5 < length <= 10: \n",
    "        return 'medium'\n",
    "    else: \n",
    "        return 'large'\n",
    "    \n",
    "def uniq_labels_per_sample(dataset, label_mapper, snd_label_type='ner'):\n",
    "    unified = [] \n",
    "    for i in range(len(dataset['words'])):\n",
    "        lid_encoding = [label_mapper[lid] for lid in dataset['lid'][i]]\n",
    "        snd_encoding = [label_mapper[snd] for snd in dataset[snd_label_type][i]]\n",
    "        len_encoding = [label_mapper[length_to_category(len(dataset['words'][i]))]]\n",
    "        unified.append(sorted(set(lid_encoding + snd_encoding + len_encoding)))\n",
    "    return unified\n",
    "\n",
    "def stratify_train_test(full_dataset, label2index, eval_ratio):\n",
    "    train_dataset = {'words': [], 'lid': [], 'ner': []}\n",
    "    test_dataset = {'words': [], 'lid': [], 'ner': []}\n",
    "    \n",
    "    label_data = uniq_labels_per_sample(full_dataset, label2index)\n",
    "    label_uniq = sorted(label2index.values())\n",
    "    \n",
    "    train_ratio = 1 - eval_ratio\n",
    "    split_indexes, split_labels = utils.stratify(label_data, label_uniq, [train_ratio, eval_ratio])\n",
    "    \n",
    "    for split_i, dataset in enumerate([train_dataset, test_dataset]):\n",
    "        for sample_index in split_indexes[split_i]:\n",
    "            dataset['words'].append(full_dataset['words'][sample_index])\n",
    "            dataset['lid'].append(full_dataset['lid'][sample_index])\n",
    "            dataset['ner'].append(full_dataset['ner'][sample_index])\n",
    "    \n",
    "    return train_dataset, test_dataset\n",
    "\n",
    "def stratify_corpus(full_dataset, label2index, ratio):\n",
    "    temp_ratio = sum(ratio[1:])  # the sum of ratios for dev and test\n",
    "    train_dataset, temp_dataset = stratify_train_test(full_dataset, label2index, temp_ratio)\n",
    "    \n",
    "    test_ratio = ratio[2] / temp_ratio # test ratio divided by the sum of dev and test ratio\n",
    "    dev_dataset, test_dataset = stratify_train_test(temp_dataset, label2index, test_ratio)\n",
    "    \n",
    "    corpus = {\n",
    "        'train': train_dataset,\n",
    "        'dev': dev_dataset,\n",
    "        'test': test_dataset\n",
    "    }\n",
    "    return corpus"
   ]
  },
  {
   "cell_type": "markdown",
   "id": "isolated-webcam",
   "metadata": {},
   "source": [
    "Merge all the existing label types in our corpus (lid, ner, and sentence length categories):"
   ]
  },
  {
   "cell_type": "code",
   "execution_count": 12,
   "id": "monetary-spank",
   "metadata": {},
   "outputs": [
    {
     "data": {
      "text/plain": [
       "{0: 'B-ORGANISATION',\n",
       " 1: 'B-PERSON',\n",
       " 2: 'B-PLACE',\n",
       " 3: 'I-ORGANISATION',\n",
       " 4: 'I-PERSON',\n",
       " 5: 'I-PLACE',\n",
       " 6: 'O',\n",
       " 7: 'en',\n",
       " 8: 'hi',\n",
       " 9: 'rest',\n",
       " 10: 'small',\n",
       " 11: 'medium',\n",
       " 12: 'large'}"
      ]
     },
     "execution_count": 12,
     "metadata": {},
     "output_type": "execute_result"
    }
   ],
   "source": [
    "label2index = unify_labels_for_stratification(corpus['original'], extra_labels=['small', 'medium', 'large'])\n",
    "index2label = {index: label for label, index in label2index.items()}\n",
    "index2label"
   ]
  },
  {
   "cell_type": "markdown",
   "id": "adverse-arcade",
   "metadata": {},
   "source": [
    "Let's run the stratification now that we have everything ready (this may take a few minutes for large datasets):"
   ]
  },
  {
   "cell_type": "code",
   "execution_count": 13,
   "id": "arranged-tenant",
   "metadata": {},
   "outputs": [],
   "source": [
    "new_corpus = stratify_corpus(corpus['original'], label2index, ratio=[0.5, 0.15, 0.35])"
   ]
  },
  {
   "cell_type": "markdown",
   "id": "friendly-hawaiian",
   "metadata": {},
   "source": [
    "## Inspecting the resulting stratified data"
   ]
  },
  {
   "cell_type": "code",
   "execution_count": 14,
   "id": "level-salad",
   "metadata": {},
   "outputs": [
    {
     "name": "stdout",
     "output_type": "stream",
     "text": [
      "Train: 621\n",
      "  Dev: 187\n",
      " Test: 435\n"
     ]
    }
   ],
   "source": [
    "print(\"Train: {:,}\".format(len(new_corpus['train']['words'])))\n",
    "print(\"  Dev: {:,}\".format(len(new_corpus['dev']['words'])))\n",
    "print(\" Test: {:,}\".format(len(new_corpus['test']['words'])))"
   ]
  },
  {
   "cell_type": "code",
   "execution_count": 15,
   "id": "chicken-warning",
   "metadata": {},
   "outputs": [
    {
     "name": "stdout",
     "output_type": "stream",
     "text": [
      "      original  train   dev  test\n",
      "en        8198   4153  1197  2848\n",
      "hi        6905   3485  1015  2405\n",
      "rest      5962   2955   934  2073\n",
      "AxesSubplot(0.125,0.125;0.775x0.755)\n"
     ]
    },
    {
     "data": {
      "image/png": "[encoded data removed]",
      "text/plain": [
       "<Figure size 432x288 with 1 Axes>"
      ]
     },
     "metadata": {
      "needs_background": "light"
     },
     "output_type": "display_data"
    }
   ],
   "source": [
    "new_lid_df = pd.DataFrame({\n",
    "    'original': split_counters(corpus['original'], field='lid'),\n",
    "    'train':    split_counters(new_corpus['train'], field='lid'),\n",
    "    'dev':      split_counters(new_corpus['dev'], field='lid'),\n",
    "    'test':     split_counters(new_corpus['test'], field='lid'),\n",
    "})\n",
    "print(new_lid_df)\n",
    "print(new_lid_df.plot.bar())"
   ]
  },
  {
   "cell_type": "code",
   "execution_count": 16,
   "id": "artistic-demand",
   "metadata": {},
   "outputs": [
    {
     "name": "stdout",
     "output_type": "stream",
     "text": [
      "                original  train   dev  test\n",
      "O                  18843   9500  2809  6534\n",
      "B-PERSON             963    475   146   342\n",
      "I-PERSON             411    201    66   144\n",
      "B-PLACE              455    222    69   164\n",
      "B-ORGANISATION       218    109    29    80\n",
      "I-PLACE              108     52    17    39\n",
      "I-ORGANISATION        67     34    10    23\n",
      "AxesSubplot(0.125,0.125;0.775x0.755)\n"
     ]
    },
    {
     "data": {
      "image/png": "[encoded data removed]",
      "text/plain": [
       "<Figure size 432x288 with 1 Axes>"
      ]
     },
     "metadata": {
      "needs_background": "light"
     },
     "output_type": "display_data"
    }
   ],
   "source": [
    "new_ner_df = pd.DataFrame({\n",
    "    'original':  split_counters(corpus['original'], field='ner'),\n",
    "    'train': split_counters(new_corpus['train'], field='ner'),\n",
    "    'dev':   split_counters(new_corpus['dev'], field='ner'),\n",
    "    'test':  split_counters(new_corpus['test'], field='ner'),\n",
    "})\n",
    "print(new_ner_df)\n",
    "print(new_ner_df[1:].plot.bar())"
   ]
  },
  {
   "cell_type": "code",
   "execution_count": 17,
   "id": "boxed-stability",
   "metadata": {},
   "outputs": [
    {
     "data": {
      "image/png": "[encoded data removed]",
      "text/plain": [
       "<Figure size 1008x360 with 1 Axes>"
      ]
     },
     "metadata": {
      "needs_background": "light"
     },
     "output_type": "display_data"
    },
    {
     "data": {
      "image/png": "[encoded data removed]",
      "text/plain": [
       "<Figure size 1008x360 with 1 Axes>"
      ]
     },
     "metadata": {
      "needs_background": "light"
     },
     "output_type": "display_data"
    },
    {
     "data": {
      "image/png": "[encoded data removed]",
      "text/plain": [
       "<Figure size 1008x360 with 1 Axes>"
      ]
     },
     "metadata": {
      "needs_background": "light"
     },
     "output_type": "display_data"
    }
   ],
   "source": [
    "plot_sentence_lengths(new_corpus)"
   ]
  },
  {
   "cell_type": "code",
   "execution_count": 18,
   "id": "existing-princess",
   "metadata": {},
   "outputs": [
    {
     "data": {
      "image/png": "[encoded data removed]",
      "text/plain": [
       "<Figure size 1008x360 with 1 Axes>"
      ]
     },
     "metadata": {
      "needs_background": "light"
     },
     "output_type": "display_data"
    }
   ],
   "source": [
    "plot_sentence_lengths(corpus)"
   ]
  },
  {
   "cell_type": "markdown",
   "id": "continental-occupation",
   "metadata": {},
   "source": [
    "KL-divergence between new splits and whole corpus (expect small numbers, in the magnitude of x10^-4 or smaller):"
   ]
  },
  {
   "cell_type": "code",
   "execution_count": 19,
   "id": "historical-richards",
   "metadata": {},
   "outputs": [
    {
     "name": "stdout",
     "output_type": "stream",
     "text": [
      "train 4.23042840016364e-05\n",
      "dev 0.00046815491386697355\n",
      "test 6.010825177379801e-07\n"
     ]
    }
   ],
   "source": [
    "def get_kl_div(p_dist, q_dist):\n",
    "    p_np = []\n",
    "    q_np = []\n",
    "    \n",
    "    for key in sorted(p_dist.keys()):\n",
    "        if key not in q_dist:\n",
    "            q_dist[key] = 1e-6\n",
    "    \n",
    "    p_sum = sum(p_dist.values())\n",
    "    q_sum = sum(q_dist.values())\n",
    "    \n",
    "    for key in sorted(p_dist.keys()):    \n",
    "        p_np.append(p_dist[key] / p_sum)\n",
    "        q_np.append(q_dist[key] / q_sum)\n",
    "        \n",
    "    return utils.numpy_kl_div(np.array(p_np), np.array(q_np))\n",
    "\n",
    "\n",
    "def print_kl_divergence(label_type='lid'):\n",
    "    orig_dist = dict(Counter(utils.flatten(corpus['original'][label_type])))\n",
    "    \n",
    "    for split in new_corpus:\n",
    "        split_dist = dict(Counter(utils.flatten(new_corpus[split][label_type])))\n",
    "        kl_div = get_kl_div(orig_dist, split_dist) \n",
    "        print(split, kl_div)\n",
    "        \n",
    "print_kl_divergence('lid')"
   ]
  },
  {
   "cell_type": "code",
   "execution_count": null,
   "id": "bacterial-treasury",
   "metadata": {},
   "outputs": [],
   "source": []
  }
 ],
 "metadata": {
  "kernelspec": {
   "display_name": "alexa",
   "language": "python",
   "name": "alexa"
  },
  "language_info": {
   "codemirror_mode": {
    "name": "ipython",
    "version": 3
   },
   "file_extension": ".py",
   "mimetype": "text/x-python",
   "name": "python",
   "nbconvert_exporter": "python",
   "pygments_lexer": "ipython3",
   "version": "3.8.0"
  }
 },
 "nbformat": 4,
 "nbformat_minor": 5
}
